{
  "nbformat": 4,
  "nbformat_minor": 0,
  "metadata": {
    "colab": {
      "provenance": [],
      "authorship_tag": "ABX9TyMnqHt3SdsTrPdT4XpB3Jeb",
      "include_colab_link": true
    },
    "kernelspec": {
      "name": "python3",
      "display_name": "Python 3"
    },
    "language_info": {
      "name": "python"
    }
  },
  "cells": [
    {
      "cell_type": "markdown",
      "metadata": {
        "id": "view-in-github",
        "colab_type": "text"
      },
      "source": [
        "<a href=\"https://colab.research.google.com/github/iBoukhenna/ai-masterclass/blob/ml/If_Else_statement_in_Python.ipynb\" target=\"_parent\"><img src=\"https://colab.research.google.com/assets/colab-badge.svg\" alt=\"Open In Colab\"/></a>"
      ]
    },
    {
      "cell_type": "markdown",
      "source": [
        "#Simple if else statement"
      ],
      "metadata": {
        "id": "gdn9lXXaBmuJ"
      }
    },
    {
      "cell_type": "code",
      "execution_count": 2,
      "metadata": {
        "colab": {
          "base_uri": "https://localhost:8080/"
        },
        "id": "UMHuEY9b_O6H",
        "outputId": "599b59cc-7d70-4be9-a7e1-8c056e74f61a"
      },
      "outputs": [
        {
          "output_type": "stream",
          "name": "stdout",
          "text": [
            "b is the greatest number\n"
          ]
        }
      ],
      "source": [
        "# Simple if else statement\n",
        "a = 30\n",
        "b = 50\n",
        "\n",
        "if (a > b) :\n",
        "  print('a is the greatest number')\n",
        "else:\n",
        "  print('b is the greatest number')"
      ]
    },
    {
      "cell_type": "code",
      "source": [
        "a = int(input('Enter the first number : '))\n",
        "b = int(input('Enter the second number : '))\n",
        "\n",
        "if (a > b) :\n",
        "  print('first number is the greatest')\n",
        "else:\n",
        "  print('second number is the greatest')"
      ],
      "metadata": {
        "colab": {
          "base_uri": "https://localhost:8080/"
        },
        "id": "6Ylt2R2K_9Ny",
        "outputId": "f24a47d4-7b95-46fe-e900-7b1b5be9b43e"
      },
      "execution_count": 6,
      "outputs": [
        {
          "output_type": "stream",
          "name": "stdout",
          "text": [
            "Enter the first number : 23\n",
            "Enter the second number : 43\n",
            "second number is the greatest\n"
          ]
        }
      ]
    },
    {
      "cell_type": "code",
      "source": [
        "a = 15\n",
        "b = 25\n",
        "c = 30\n",
        "\n",
        "if (b < a > c) :\n",
        "  print('a is the greatest number')\n",
        "elif (a < b > c) :\n",
        "  print('b is the greatest number')\n",
        "else:\n",
        "  print('c is the greatest number')\n"
      ],
      "metadata": {
        "colab": {
          "base_uri": "https://localhost:8080/"
        },
        "id": "PGBpR_1LAxEg",
        "outputId": "0c5a38fd-4760-4060-a8eb-f07fca6badea"
      },
      "execution_count": 7,
      "outputs": [
        {
          "output_type": "stream",
          "name": "stdout",
          "text": [
            "c is the greatest number\n"
          ]
        }
      ]
    },
    {
      "cell_type": "markdown",
      "source": [
        "#Nested if statement"
      ],
      "metadata": {
        "id": "hnNc4HduBedM"
      }
    },
    {
      "cell_type": "code",
      "source": [
        "a = 15\n",
        "b = 25\n",
        "c = 30\n",
        "\n",
        "if (a > b) :\n",
        "  if (a > c) :\n",
        "    print('a is the greatest number')\n",
        "  else:\n",
        "    print('c is the greatest number')\n",
        "else:\n",
        "  if (b > c) :\n",
        "    print('b is the greatest number')\n",
        "  else:\n",
        "    print('c is the greatest number')"
      ],
      "metadata": {
        "colab": {
          "base_uri": "https://localhost:8080/"
        },
        "id": "lYouqty3Bc5f",
        "outputId": "c819fbcd-5099-4007-f349-61fd0e133d67"
      },
      "execution_count": 8,
      "outputs": [
        {
          "output_type": "stream",
          "name": "stdout",
          "text": [
            "c is the greatest number\n"
          ]
        }
      ]
    }
  ]
}