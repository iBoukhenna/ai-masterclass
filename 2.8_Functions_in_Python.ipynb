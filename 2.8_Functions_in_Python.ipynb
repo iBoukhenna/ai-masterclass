{
  "nbformat": 4,
  "nbformat_minor": 0,
  "metadata": {
    "colab": {
      "provenance": [],
      "authorship_tag": "ABX9TyNapcwJxT6Basn1tiB/f+qQ",
      "include_colab_link": true
    },
    "kernelspec": {
      "name": "python3",
      "display_name": "Python 3"
    },
    "language_info": {
      "name": "python"
    }
  },
  "cells": [
    {
      "cell_type": "markdown",
      "metadata": {
        "id": "view-in-github",
        "colab_type": "text"
      },
      "source": [
        "<a href=\"https://colab.research.google.com/github/iBoukhenna/ai-masterclass/blob/ml/Functions_in_Python.ipynb\" target=\"_parent\"><img src=\"https://colab.research.google.com/assets/colab-badge.svg\" alt=\"Open In Colab\"/></a>"
      ]
    },
    {
      "cell_type": "markdown",
      "source": [
        "#Functions:\n",
        "Function is a block of code that can be reused in a Program"
      ],
      "metadata": {
        "id": "11pi2_ZeG9Xb"
      }
    },
    {
      "cell_type": "markdown",
      "source": [
        "#Factorial of a Number\n",
        "Factorial of a number is the product of all the positive integers less than or equal to the given number\n",
        "ex : Factorial of 5 = 5x4x3x2x1 = 120"
      ],
      "metadata": {
        "id": "SYtA56juHKNG"
      }
    },
    {
      "cell_type": "code",
      "execution_count": 2,
      "metadata": {
        "colab": {
          "base_uri": "https://localhost:8080/"
        },
        "id": "WJjmmbU-GvTD",
        "outputId": "8afdbd92-ada6-4949-ba0f-ab7d28d83871"
      },
      "outputs": [
        {
          "output_type": "stream",
          "name": "stdout",
          "text": [
            " Enter a number to find its factorial :5\n",
            " The factorial of  5  is 120\n"
          ]
        }
      ],
      "source": [
        "number = int(input(\" Enter a number to find its factorial :\"))\n",
        "factorial = 1\n",
        "if number == 0:\n",
        "  print (\" The Factorial of 0 is 1\")\n",
        "else :\n",
        "  for i in range(1, number+1):\n",
        "    factorial = factorial * i\n",
        "  print(\" The factorial of \", number, \" is\", factorial)"
      ]
    },
    {
      "cell_type": "markdown",
      "source": [
        "#Factorial Function"
      ],
      "metadata": {
        "id": "qILjGPyKI84_"
      }
    },
    {
      "cell_type": "code",
      "source": [
        "def factorial_value(num):\n",
        "  factorial = 1\n",
        "\n",
        "  if num == 0:\n",
        "    return factorial\n",
        "  else :\n",
        "    for i in range(1, num+1):\n",
        "      factorial = factorial * i\n",
        "    return factorial"
      ],
      "metadata": {
        "id": "_iV1ed7kJCsw"
      },
      "execution_count": 6,
      "outputs": []
    },
    {
      "cell_type": "code",
      "source": [
        "print(factorial_value(5))\n",
        "print(factorial_value(10))"
      ],
      "metadata": {
        "colab": {
          "base_uri": "https://localhost:8080/"
        },
        "id": "9Q-R4IxjJxwh",
        "outputId": "a473a6f7-35ad-4f80-9e02-75bd3d9fff08"
      },
      "execution_count": 9,
      "outputs": [
        {
          "output_type": "stream",
          "name": "stdout",
          "text": [
            "120\n",
            "3628800\n"
          ]
        }
      ]
    }
  ]
}