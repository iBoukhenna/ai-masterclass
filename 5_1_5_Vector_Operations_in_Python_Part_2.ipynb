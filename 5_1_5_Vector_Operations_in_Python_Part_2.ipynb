{
  "nbformat": 4,
  "nbformat_minor": 0,
  "metadata": {
    "colab": {
      "provenance": [],
      "authorship_tag": "ABX9TyM/ugNs2ONyrgY0kqk6qaHQ",
      "include_colab_link": true
    },
    "kernelspec": {
      "name": "python3",
      "display_name": "Python 3"
    },
    "language_info": {
      "name": "python"
    }
  },
  "cells": [
    {
      "cell_type": "markdown",
      "metadata": {
        "id": "view-in-github",
        "colab_type": "text"
      },
      "source": [
        "<a href=\"https://colab.research.google.com/github/iBoukhenna/ai-masterclass/blob/ml/5_1_5_Vector_Operations_in_Python_Part_2.ipynb\" target=\"_parent\"><img src=\"https://colab.research.google.com/assets/colab-badge.svg\" alt=\"Open In Colab\"/></a>"
      ]
    },
    {
      "cell_type": "code",
      "execution_count": 2,
      "metadata": {
        "id": "sPdUKqd7RXS-"
      },
      "outputs": [],
      "source": [
        "import numpy as np"
      ]
    },
    {
      "cell_type": "markdown",
      "source": [
        "#Dot Product of 2 Vectors"
      ],
      "metadata": {
        "id": "k4SSiZaJbG3q"
      }
    },
    {
      "cell_type": "code",
      "source": [
        "a = np.array([2, 3])\n",
        "b = np.array([4, 4])\n",
        "a_dot_b = np.dot(a, b)"
      ],
      "metadata": {
        "id": "UbmYhEHYbNPU"
      },
      "execution_count": 3,
      "outputs": []
    },
    {
      "cell_type": "code",
      "source": [
        "print(a_dot_b)"
      ],
      "metadata": {
        "colab": {
          "base_uri": "https://localhost:8080/"
        },
        "id": "_hNd1dFcbhtT",
        "outputId": "a8bee223-0e26-4a7c-ba64-30ce9354dad3"
      },
      "execution_count": 4,
      "outputs": [
        {
          "output_type": "stream",
          "name": "stdout",
          "text": [
            "20\n"
          ]
        }
      ]
    },
    {
      "cell_type": "code",
      "source": [
        "c = np.array([40, 20, 35])\n",
        "d = np.array([53, 24, 68])\n",
        "c_dot_d = np.dot(c, d)"
      ],
      "metadata": {
        "id": "CQYDS7AXbpP8"
      },
      "execution_count": 6,
      "outputs": []
    },
    {
      "cell_type": "code",
      "source": [
        "print(c_dot_d)"
      ],
      "metadata": {
        "colab": {
          "base_uri": "https://localhost:8080/"
        },
        "id": "Ac7btps2cAM-",
        "outputId": "bc9391fe-8b92-427c-9f86-9c5076c9f719"
      },
      "execution_count": 7,
      "outputs": [
        {
          "output_type": "stream",
          "name": "stdout",
          "text": [
            "4980\n"
          ]
        }
      ]
    },
    {
      "cell_type": "markdown",
      "source": [
        "#Cross Product of 2 Vectors"
      ],
      "metadata": {
        "id": "K9qmpSXMcGI7"
      }
    },
    {
      "cell_type": "code",
      "source": [
        "a = np.array([2, 3])\n",
        "b = np.array([4, 4])\n",
        "a_cross_b = np.cross(a, b)"
      ],
      "metadata": {
        "id": "m0Dk5_mBcD5I"
      },
      "execution_count": 8,
      "outputs": []
    },
    {
      "cell_type": "code",
      "source": [
        "print(a_cross_b)"
      ],
      "metadata": {
        "colab": {
          "base_uri": "https://localhost:8080/"
        },
        "id": "dL7xuaKKcW1A",
        "outputId": "8a07301a-aed7-4de4-f3cc-f3dad1cd6f17"
      },
      "execution_count": 9,
      "outputs": [
        {
          "output_type": "stream",
          "name": "stdout",
          "text": [
            "-4\n"
          ]
        }
      ]
    },
    {
      "cell_type": "code",
      "source": [
        "c = np.array([5, 10, 20])\n",
        "d = np.array([18, 32, 50])\n",
        "c_cross_d = np.cross(c, d)"
      ],
      "metadata": {
        "id": "M5ipUBD6ceDM"
      },
      "execution_count": 10,
      "outputs": []
    },
    {
      "cell_type": "code",
      "source": [
        "print(c_cross_d)"
      ],
      "metadata": {
        "colab": {
          "base_uri": "https://localhost:8080/"
        },
        "id": "-9TF4l4kcucV",
        "outputId": "9df89167-a13b-49ac-a6eb-30e4ce2b98ef"
      },
      "execution_count": 11,
      "outputs": [
        {
          "output_type": "stream",
          "name": "stdout",
          "text": [
            "[-140  110  -20]\n"
          ]
        }
      ]
    },
    {
      "cell_type": "markdown",
      "source": [
        "#Projection of 'a' Vector on 'b' Vector"
      ],
      "metadata": {
        "id": "9jlBPaHzdEht"
      }
    },
    {
      "cell_type": "code",
      "source": [
        "a = np.array([2, 5])\n",
        "b = np.array([8, -6])\n",
        "\n",
        "# magnitude of \"b\" vector\n",
        "magnitude_of_b = np.sqrt(sum(b**2))\n",
        "proj_of_a_on_b = (np.dot(a,b) / magnitude_of_b**2)*b\n",
        "print('Projection of a vector on b vector = ', proj_of_a_on_b)"
      ],
      "metadata": {
        "colab": {
          "base_uri": "https://localhost:8080/"
        },
        "id": "2jCTHQmlcxUc",
        "outputId": "28a662ac-b281-4409-e609-3b83ec9d487b"
      },
      "execution_count": 12,
      "outputs": [
        {
          "output_type": "stream",
          "name": "stdout",
          "text": [
            "Projection of a vector on b vector =  [-1.12  0.84]\n"
          ]
        }
      ]
    },
    {
      "cell_type": "code",
      "source": [
        "a = np.array([23, 45,62])\n",
        "b = np.array([45, 82, 67])\n",
        "\n",
        "# magnitude of \"b\" vector\n",
        "magnitude_of_b = np.sqrt(sum(b**2))\n",
        "proj_of_a_on_b = (np.dot(a,b) / magnitude_of_b**2)*b\n",
        "print('Projection of a vector on b vector = ', proj_of_a_on_b)"
      ],
      "metadata": {
        "colab": {
          "base_uri": "https://localhost:8080/"
        },
        "id": "rNhp7DF7eeeL",
        "outputId": "82391c7a-cf45-49b4-ec9a-9f9c74b1d16e"
      },
      "execution_count": 13,
      "outputs": [
        {
          "output_type": "stream",
          "name": "stdout",
          "text": [
            "Projection of a vector on b vector =  [30.18242937 54.99909352 44.93828373]\n"
          ]
        }
      ]
    }
  ]
}