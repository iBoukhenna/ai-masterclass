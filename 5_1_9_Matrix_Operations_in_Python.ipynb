{
  "nbformat": 4,
  "nbformat_minor": 0,
  "metadata": {
    "colab": {
      "provenance": [],
      "authorship_tag": "ABX9TyMolqaHMG+dSq8wtxx/+tYs",
      "include_colab_link": true
    },
    "kernelspec": {
      "name": "python3",
      "display_name": "Python 3"
    },
    "language_info": {
      "name": "python"
    }
  },
  "cells": [
    {
      "cell_type": "markdown",
      "metadata": {
        "id": "view-in-github",
        "colab_type": "text"
      },
      "source": [
        "<a href=\"https://colab.research.google.com/github/iBoukhenna/ai-masterclass/blob/ml/5_1_9_Matrix_Operations_in_Python.ipynb\" target=\"_parent\"><img src=\"https://colab.research.google.com/assets/colab-badge.svg\" alt=\"Open In Colab\"/></a>"
      ]
    },
    {
      "cell_type": "markdown",
      "source": [
        "#Importing Numpy Library"
      ],
      "metadata": {
        "id": "O58ZdyUV7vVz"
      }
    },
    {
      "cell_type": "code",
      "execution_count": 2,
      "metadata": {
        "id": "yjN8j4Dy7m70"
      },
      "outputs": [],
      "source": [
        "import numpy as np"
      ]
    },
    {
      "cell_type": "markdown",
      "source": [
        "#Matrix Addition\n",
        "Two matrices can be added only if they have the same shape"
      ],
      "metadata": {
        "id": "EPzQOJlJ76BJ"
      }
    },
    {
      "cell_type": "code",
      "source": [
        "# creating two matrices\n",
        "A = np.array([[2,3],[10,5]])\n",
        "B = np.array([[10,5],[20,4]])"
      ],
      "metadata": {
        "id": "YUcbvIxQ7zF8"
      },
      "execution_count": 3,
      "outputs": []
    },
    {
      "cell_type": "code",
      "source": [
        "print(A)"
      ],
      "metadata": {
        "colab": {
          "base_uri": "https://localhost:8080/"
        },
        "id": "W-i56N_mP1Kh",
        "outputId": "273f93dc-0165-4a52-c83c-9f9c6493ffff"
      },
      "execution_count": 5,
      "outputs": [
        {
          "output_type": "stream",
          "name": "stdout",
          "text": [
            "[[ 2  3]\n",
            " [10  5]]\n"
          ]
        }
      ]
    },
    {
      "cell_type": "code",
      "source": [
        "print(B)"
      ],
      "metadata": {
        "colab": {
          "base_uri": "https://localhost:8080/"
        },
        "id": "T-AJyneSP2mw",
        "outputId": "be559cee-59af-41bc-d6fd-e795e4426d83"
      },
      "execution_count": 6,
      "outputs": [
        {
          "output_type": "stream",
          "name": "stdout",
          "text": [
            "[[10  5]\n",
            " [20  4]]\n"
          ]
        }
      ]
    },
    {
      "cell_type": "code",
      "source": [
        "A.shape"
      ],
      "metadata": {
        "colab": {
          "base_uri": "https://localhost:8080/"
        },
        "id": "kwBZAbkDP6Hg",
        "outputId": "6966efef-d99f-4211-9cd0-08d3ff3acc9a"
      },
      "execution_count": 7,
      "outputs": [
        {
          "output_type": "execute_result",
          "data": {
            "text/plain": [
              "(2, 2)"
            ]
          },
          "metadata": {},
          "execution_count": 7
        }
      ]
    },
    {
      "cell_type": "code",
      "source": [
        "B.shape"
      ],
      "metadata": {
        "colab": {
          "base_uri": "https://localhost:8080/"
        },
        "id": "un6H8HVkP9tS",
        "outputId": "4ca5678f-7780-4636-a045-02b6a7c6d332"
      },
      "execution_count": 8,
      "outputs": [
        {
          "output_type": "execute_result",
          "data": {
            "text/plain": [
              "(2, 2)"
            ]
          },
          "metadata": {},
          "execution_count": 8
        }
      ]
    },
    {
      "cell_type": "markdown",
      "source": [
        "#Adding two Matrices"
      ],
      "metadata": {
        "id": "bHpT28ejQGHq"
      }
    },
    {
      "cell_type": "code",
      "source": [
        "sum = A + B"
      ],
      "metadata": {
        "id": "DP9tFRxmP_R3"
      },
      "execution_count": 9,
      "outputs": []
    },
    {
      "cell_type": "code",
      "source": [
        "print(sum)"
      ],
      "metadata": {
        "colab": {
          "base_uri": "https://localhost:8080/"
        },
        "id": "EZ3KRsRBQK8Q",
        "outputId": "c240d569-23a9-4350-da7f-5ac12492b7c2"
      },
      "execution_count": 10,
      "outputs": [
        {
          "output_type": "stream",
          "name": "stdout",
          "text": [
            "[[12  8]\n",
            " [30  9]]\n"
          ]
        }
      ]
    },
    {
      "cell_type": "code",
      "source": [
        "# create two matrices with random values\n",
        "matrix_1 = np.random.randint(10, size=(3,3))\n",
        "matrix_2 = np.random.randint(20, size=(3,3))"
      ],
      "metadata": {
        "id": "mz-VVEiJQQLl"
      },
      "execution_count": 18,
      "outputs": []
    },
    {
      "cell_type": "code",
      "source": [
        "print(matrix_1)"
      ],
      "metadata": {
        "colab": {
          "base_uri": "https://localhost:8080/"
        },
        "id": "m4vSTDBKQdM5",
        "outputId": "1267aef4-9814-40cc-faf2-b8bf1558d854"
      },
      "execution_count": 19,
      "outputs": [
        {
          "output_type": "stream",
          "name": "stdout",
          "text": [
            "[[5 1 0]\n",
            " [1 5 3]\n",
            " [7 4 5]]\n"
          ]
        }
      ]
    },
    {
      "cell_type": "code",
      "source": [
        "print(matrix_2)"
      ],
      "metadata": {
        "colab": {
          "base_uri": "https://localhost:8080/"
        },
        "id": "yx2pXEBSQmyv",
        "outputId": "3153fbe7-41dd-4e20-f316-e2775ebd055e"
      },
      "execution_count": 20,
      "outputs": [
        {
          "output_type": "stream",
          "name": "stdout",
          "text": [
            "[[14  2  0]\n",
            " [ 1  4 14]\n",
            " [ 6  4 13]]\n"
          ]
        }
      ]
    },
    {
      "cell_type": "code",
      "source": [
        "sum = np.add(matrix_1, matrix_2)"
      ],
      "metadata": {
        "id": "iMWjEx2YQnuN"
      },
      "execution_count": 21,
      "outputs": []
    },
    {
      "cell_type": "code",
      "source": [
        "print(sum)"
      ],
      "metadata": {
        "colab": {
          "base_uri": "https://localhost:8080/"
        },
        "id": "kk7MD975Qyzd",
        "outputId": "81137a63-5324-4854-f1c9-8035dc515394"
      },
      "execution_count": 22,
      "outputs": [
        {
          "output_type": "stream",
          "name": "stdout",
          "text": [
            "[[19  3  0]\n",
            " [ 2  9 17]\n",
            " [13  8 18]]\n"
          ]
        }
      ]
    },
    {
      "cell_type": "code",
      "source": [
        "# create two matrices with random values\n",
        "matrix_3 = np.random.randint(10, size=(3,3))\n",
        "matrix_4 = np.random.randint(20, size=(3,4))"
      ],
      "metadata": {
        "id": "aMq7dENHQ0gO"
      },
      "execution_count": 23,
      "outputs": []
    },
    {
      "cell_type": "code",
      "source": [
        "# sum_2 = np.add(matrix_3,matrix_4)\n",
        "# we get error because shape of matrix_3 and matrix_4 are different"
      ],
      "metadata": {
        "id": "xAljWqP0Q6bv"
      },
      "execution_count": 24,
      "outputs": []
    },
    {
      "cell_type": "markdown",
      "source": [
        "#Martix Subtraction"
      ],
      "metadata": {
        "id": "uhXaDiUxRYiY"
      }
    },
    {
      "cell_type": "code",
      "source": [
        "diff = A - B"
      ],
      "metadata": {
        "id": "bZF2zrubRTtP"
      },
      "execution_count": 25,
      "outputs": []
    },
    {
      "cell_type": "code",
      "source": [
        "print(diff)"
      ],
      "metadata": {
        "colab": {
          "base_uri": "https://localhost:8080/"
        },
        "id": "PmtuTo7fRcrv",
        "outputId": "79c20b5d-450d-46c5-efb2-f02c346b20d5"
      },
      "execution_count": 26,
      "outputs": [
        {
          "output_type": "stream",
          "name": "stdout",
          "text": [
            "[[ -8  -2]\n",
            " [-10   1]]\n"
          ]
        }
      ]
    },
    {
      "cell_type": "code",
      "source": [
        "diff = np.subtract(matrix_1, matrix_2)"
      ],
      "metadata": {
        "id": "CTF7clyLRdjW"
      },
      "execution_count": 27,
      "outputs": []
    },
    {
      "cell_type": "code",
      "source": [
        "print(diff)"
      ],
      "metadata": {
        "colab": {
          "base_uri": "https://localhost:8080/"
        },
        "id": "MykbDGjZRmmH",
        "outputId": "d4d6e3b8-2472-42e6-f8b2-043b3d1c9bbc"
      },
      "execution_count": 28,
      "outputs": [
        {
          "output_type": "stream",
          "name": "stdout",
          "text": [
            "[[ -9  -1   0]\n",
            " [  0   1 -11]\n",
            " [  1   0  -8]]\n"
          ]
        }
      ]
    },
    {
      "cell_type": "code",
      "source": [
        "# diff_2 = np.subtract(matrix_3,matrix_4)\n",
        "# we get error because shape of matrix_3 and matrix_4 are different"
      ],
      "metadata": {
        "id": "3KCRCgS2RokW"
      },
      "execution_count": 29,
      "outputs": []
    },
    {
      "cell_type": "markdown",
      "source": [
        "#Multiplying a Martix by Scalar"
      ],
      "metadata": {
        "id": "x2PwFTfTR3rN"
      }
    },
    {
      "cell_type": "code",
      "source": [
        "x = 5\n",
        "y = np.array([[2,1],[4,2],[6,3]])"
      ],
      "metadata": {
        "id": "DkU-d8YsRyQw"
      },
      "execution_count": 30,
      "outputs": []
    },
    {
      "cell_type": "code",
      "source": [
        "print(y)"
      ],
      "metadata": {
        "colab": {
          "base_uri": "https://localhost:8080/"
        },
        "id": "CGleZXqXSEWo",
        "outputId": "00583077-d082-475f-de4f-9caeb716d55e"
      },
      "execution_count": 31,
      "outputs": [
        {
          "output_type": "stream",
          "name": "stdout",
          "text": [
            "[[2 1]\n",
            " [4 2]\n",
            " [6 3]]\n"
          ]
        }
      ]
    },
    {
      "cell_type": "code",
      "source": [
        "product = x * y"
      ],
      "metadata": {
        "id": "Oq3FSLn1SVmj"
      },
      "execution_count": 33,
      "outputs": []
    },
    {
      "cell_type": "code",
      "source": [
        "print(product)"
      ],
      "metadata": {
        "colab": {
          "base_uri": "https://localhost:8080/"
        },
        "id": "9EIPrE5QSVsj",
        "outputId": "a9abd1f3-c90c-449e-b890-29692265e642"
      },
      "execution_count": 34,
      "outputs": [
        {
          "output_type": "stream",
          "name": "stdout",
          "text": [
            "[[10  5]\n",
            " [20 10]\n",
            " [30 15]]\n"
          ]
        }
      ]
    },
    {
      "cell_type": "code",
      "source": [
        "w = 10\n",
        "z = np.random.randint(10, size=(4,4))"
      ],
      "metadata": {
        "id": "0PP_ApeKSGk2"
      },
      "execution_count": 37,
      "outputs": []
    },
    {
      "cell_type": "code",
      "source": [
        "print(z)"
      ],
      "metadata": {
        "colab": {
          "base_uri": "https://localhost:8080/"
        },
        "id": "cJNMixyKS0Br",
        "outputId": "b6a95bae-ad5e-4c97-f03c-0051c17ac752"
      },
      "execution_count": 38,
      "outputs": [
        {
          "output_type": "stream",
          "name": "stdout",
          "text": [
            "[[5 6 7 7]\n",
            " [2 4 5 2]\n",
            " [0 2 8 2]\n",
            " [0 1 5 7]]\n"
          ]
        }
      ]
    },
    {
      "cell_type": "code",
      "source": [
        "product = np.multiply(w, z)"
      ],
      "metadata": {
        "id": "cMV9XswESUhe"
      },
      "execution_count": 39,
      "outputs": []
    },
    {
      "cell_type": "code",
      "source": [
        "print(product)"
      ],
      "metadata": {
        "colab": {
          "base_uri": "https://localhost:8080/"
        },
        "id": "jnSU1jtySmC1",
        "outputId": "1445aca7-ea3a-4e35-cb59-94b8aedfad5c"
      },
      "execution_count": 40,
      "outputs": [
        {
          "output_type": "stream",
          "name": "stdout",
          "text": [
            "[[50 60 70 70]\n",
            " [20 40 50 20]\n",
            " [ 0 20 80 20]\n",
            " [ 0 10 50 70]]\n"
          ]
        }
      ]
    },
    {
      "cell_type": "markdown",
      "source": [
        "#Multiplying 2 Martices"
      ],
      "metadata": {
        "id": "JNSxA-USSph2"
      }
    },
    {
      "cell_type": "code",
      "source": [
        "E = np.array([[2,3],[8,6]])\n",
        "F = np.array([[10,5],[20,4]])"
      ],
      "metadata": {
        "id": "kz0D7EGOTp53"
      },
      "execution_count": 46,
      "outputs": []
    },
    {
      "cell_type": "code",
      "source": [
        "print(E)"
      ],
      "metadata": {
        "colab": {
          "base_uri": "https://localhost:8080/"
        },
        "id": "5z-LZl_OT5qs",
        "outputId": "79a2d3f6-c58e-45ff-86f4-5e2b69aa65cf"
      },
      "execution_count": 47,
      "outputs": [
        {
          "output_type": "stream",
          "name": "stdout",
          "text": [
            "[[2 3]\n",
            " [8 6]]\n"
          ]
        }
      ]
    },
    {
      "cell_type": "code",
      "source": [
        "print(F)"
      ],
      "metadata": {
        "colab": {
          "base_uri": "https://localhost:8080/"
        },
        "id": "1zckZOlbT8IP",
        "outputId": "af8464ee-ed24-49e6-9a80-7d87dbb0eeb2"
      },
      "execution_count": 48,
      "outputs": [
        {
          "output_type": "stream",
          "name": "stdout",
          "text": [
            "[[10  5]\n",
            " [20  4]]\n"
          ]
        }
      ]
    },
    {
      "cell_type": "code",
      "source": [
        "product = np.dot(E, F)\n",
        "product2 = E * F"
      ],
      "metadata": {
        "id": "if7aRYU-T9sD"
      },
      "execution_count": 54,
      "outputs": []
    },
    {
      "cell_type": "code",
      "source": [
        "print(product)"
      ],
      "metadata": {
        "colab": {
          "base_uri": "https://localhost:8080/"
        },
        "id": "EXDSHtdiUA0g",
        "outputId": "a0a0bfd1-1aa1-4e8c-f09d-ef03b842fa5a"
      },
      "execution_count": 55,
      "outputs": [
        {
          "output_type": "stream",
          "name": "stdout",
          "text": [
            "[[ 80  22]\n",
            " [200  64]]\n"
          ]
        }
      ]
    },
    {
      "cell_type": "code",
      "source": [
        "print(product2)"
      ],
      "metadata": {
        "colab": {
          "base_uri": "https://localhost:8080/"
        },
        "id": "yfrtQ8ZYUbYQ",
        "outputId": "f6b0d439-c4f2-4a73-ea67-a6cfe145961c"
      },
      "execution_count": 56,
      "outputs": [
        {
          "output_type": "stream",
          "name": "stdout",
          "text": [
            "[[ 20  15]\n",
            " [160  24]]\n"
          ]
        }
      ]
    },
    {
      "cell_type": "markdown",
      "source": [
        "np.dot is different than *"
      ],
      "metadata": {
        "id": "jYlxoghkUeCU"
      }
    },
    {
      "cell_type": "code",
      "source": [
        "# create two matrices with random values\n",
        "matrix_5 = np.random.randint(5, size=(3,3))\n",
        "matrix_6 = np.random.randint(5, size=(3,4))"
      ],
      "metadata": {
        "id": "B1o8XtbYSnlO"
      },
      "execution_count": 63,
      "outputs": []
    },
    {
      "cell_type": "code",
      "source": [
        "print(matrix_5)"
      ],
      "metadata": {
        "colab": {
          "base_uri": "https://localhost:8080/"
        },
        "id": "BwCvzg1PTLz9",
        "outputId": "412f2221-4c29-4e74-ffc9-22e5c3717047"
      },
      "execution_count": 64,
      "outputs": [
        {
          "output_type": "stream",
          "name": "stdout",
          "text": [
            "[[3 4 2]\n",
            " [4 0 0]\n",
            " [3 0 3]]\n"
          ]
        }
      ]
    },
    {
      "cell_type": "code",
      "source": [
        "print(matrix_6)"
      ],
      "metadata": {
        "colab": {
          "base_uri": "https://localhost:8080/"
        },
        "id": "fg5Cz92VTRC9",
        "outputId": "524a17d2-1fdc-4433-8f86-d614fa71ac83"
      },
      "execution_count": 65,
      "outputs": [
        {
          "output_type": "stream",
          "name": "stdout",
          "text": [
            "[[2 0 0 4]\n",
            " [3 1 0 4]\n",
            " [0 1 4 3]]\n"
          ]
        }
      ]
    },
    {
      "cell_type": "code",
      "source": [
        "product = np.dot(matrix_5, matrix_6)"
      ],
      "metadata": {
        "id": "5qHweyHBTTtk"
      },
      "execution_count": 66,
      "outputs": []
    },
    {
      "cell_type": "code",
      "source": [
        "print(product)"
      ],
      "metadata": {
        "colab": {
          "base_uri": "https://localhost:8080/"
        },
        "id": "rRVZko_1Tb_c",
        "outputId": "80c388bb-c974-493a-fa3f-5583658dd5ec"
      },
      "execution_count": 67,
      "outputs": [
        {
          "output_type": "stream",
          "name": "stdout",
          "text": [
            "[[18  6  8 34]\n",
            " [ 8  0  0 16]\n",
            " [ 6  3 12 21]]\n"
          ]
        }
      ]
    },
    {
      "cell_type": "code",
      "source": [
        "# create two matrices with random values\n",
        "matrix_7 = np.random.randint(5, size=(3,3))\n",
        "matrix_8 = np.random.randint(5, size=(4,4))"
      ],
      "metadata": {
        "id": "qUdKkEvcTd6T"
      },
      "execution_count": 68,
      "outputs": []
    },
    {
      "cell_type": "code",
      "source": [
        "# product = np.dot(matrix_7, matrix_8)\n",
        "# we get error because numbre of columns of matrix_7 and number of rows of matrix_8 are different"
      ],
      "metadata": {
        "id": "vGsXRMUpUpA2"
      },
      "execution_count": 69,
      "outputs": []
    },
    {
      "cell_type": "markdown",
      "source": [
        "#Element wise matrix multiplication"
      ],
      "metadata": {
        "id": "0Xu1OpLBVWuR"
      }
    },
    {
      "cell_type": "code",
      "source": [
        "product = np.multiply(E, F)\n",
        "product2 = E * F"
      ],
      "metadata": {
        "id": "KLPmpJx-VVR6"
      },
      "execution_count": 70,
      "outputs": []
    },
    {
      "cell_type": "code",
      "source": [
        "print(product)"
      ],
      "metadata": {
        "colab": {
          "base_uri": "https://localhost:8080/"
        },
        "id": "ukD7rZqRVF0s",
        "outputId": "2249db9e-9ec5-4656-9464-40b0d059d830"
      },
      "execution_count": 71,
      "outputs": [
        {
          "output_type": "stream",
          "name": "stdout",
          "text": [
            "[[ 20  15]\n",
            " [160  24]]\n"
          ]
        }
      ]
    },
    {
      "cell_type": "code",
      "source": [
        "print(product2)"
      ],
      "metadata": {
        "colab": {
          "base_uri": "https://localhost:8080/"
        },
        "id": "IV4jMz3aVl4c",
        "outputId": "1b6537a8-279f-46dd-f501-b3ba03e0374d"
      },
      "execution_count": 72,
      "outputs": [
        {
          "output_type": "stream",
          "name": "stdout",
          "text": [
            "[[ 20  15]\n",
            " [160  24]]\n"
          ]
        }
      ]
    },
    {
      "cell_type": "markdown",
      "source": [
        "np.multiply is equal than *"
      ],
      "metadata": {
        "id": "mMbEyHhFVsUO"
      }
    },
    {
      "cell_type": "code",
      "source": [
        "# product = np.multiply(matrix_7, matrix_8)\n",
        "# we get error because shape of matrix_7 and matrix_8 are different"
      ],
      "metadata": {
        "id": "xbnPa9S0VoL7"
      },
      "execution_count": 73,
      "outputs": []
    }
  ]
}