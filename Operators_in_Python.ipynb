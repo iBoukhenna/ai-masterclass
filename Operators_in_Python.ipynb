{
  "nbformat": 4,
  "nbformat_minor": 0,
  "metadata": {
    "colab": {
      "provenance": [],
      "include_colab_link": true
    },
    "kernelspec": {
      "name": "python3",
      "display_name": "Python 3"
    },
    "language_info": {
      "name": "python"
    }
  },
  "cells": [
    {
      "cell_type": "markdown",
      "metadata": {
        "id": "view-in-github",
        "colab_type": "text"
      },
      "source": [
        "<a href=\"https://colab.research.google.com/github/iBoukhenna/ai-masterclass/blob/ml/Operators_in_Python.ipynb\" target=\"_parent\"><img src=\"https://colab.research.google.com/assets/colab-badge.svg\" alt=\"Open In Colab\"/></a>"
      ]
    },
    {
      "cell_type": "markdown",
      "source": [
        "#Operators in Python\n",
        "\n",
        "\n",
        "1.   Arithmetic Operators\n",
        "2.   Assignment Operators\n",
        "3.   Comparison Operators\n",
        "4.   Logical Operators\n",
        "5.   Identity Operators\n",
        "6.   Membership Operators"
      ],
      "metadata": {
        "id": "uoKW2Vtl5T6r"
      }
    },
    {
      "cell_type": "markdown",
      "source": [
        "1. Arithmetic Operators"
      ],
      "metadata": {
        "id": "6LxhNzLt513w"
      }
    },
    {
      "cell_type": "code",
      "source": [
        "num_1 = 20\n",
        "num_2 = 10\n",
        "\n",
        "# addition\n",
        "sum = num_1 + num_2\n",
        "print(\"sum = \" , sum)\n",
        "\n",
        "# subtraction\n",
        "diff = num_1 - num_2\n",
        "print(\"difference = \" , diff)\n",
        "\n",
        "# multiplication\n",
        "pro = num_1 * num_2\n",
        "print(\"product = \" , pro)\n",
        "\n",
        "# division\n",
        "quo = num_1 / num_2\n",
        "print(\"quotient = \" , quo)\n",
        "\n",
        "# exponent\n",
        "exp = num_1 ** num_2 # 20^10\n",
        "print(\"exponent = \" , exp)\n",
        "\n",
        "# modulus\n",
        "mod = num_1 % num_2\n",
        "print(\"reminder = \" , mod)\n"
      ],
      "metadata": {
        "colab": {
          "base_uri": "https://localhost:8080/"
        },
        "id": "dFtGIuQT59SV",
        "outputId": "be5a37ea-baf7-4bf2-e2d3-802167c9770f"
      },
      "execution_count": null,
      "outputs": [
        {
          "output_type": "stream",
          "name": "stdout",
          "text": [
            "sum =  30\n",
            "difference =  10\n",
            "product =  200\n",
            "quotient =  2.0\n",
            "exponent =  10240000000000\n",
            "reminder =  0\n"
          ]
        }
      ]
    },
    {
      "cell_type": "markdown",
      "source": [
        "2. Assignment Operators"
      ],
      "metadata": {
        "id": "UXzmvkUd7jzk"
      }
    },
    {
      "cell_type": "markdown",
      "source": [
        "+=\n",
        "-=\n",
        "*=\n",
        "**=\n",
        "/=\n",
        "%="
      ],
      "metadata": {
        "id": "tC2VWA6J8Dgm"
      }
    },
    {
      "cell_type": "code",
      "source": [
        "a = 5\n",
        "print(a)"
      ],
      "metadata": {
        "colab": {
          "base_uri": "https://localhost:8080/"
        },
        "id": "yWcjYnW37yje",
        "outputId": "38a3002a-2f38-40dc-df8f-95af2c6f28c3"
      },
      "execution_count": null,
      "outputs": [
        {
          "output_type": "stream",
          "name": "stdout",
          "text": [
            "5\n"
          ]
        }
      ]
    },
    {
      "cell_type": "code",
      "source": [
        "a = 5\n",
        "a += 5 # a = a + 5\n",
        "print(a)"
      ],
      "metadata": {
        "colab": {
          "base_uri": "https://localhost:8080/"
        },
        "id": "szjcqMVe73mw",
        "outputId": "6433259f-8709-4dd6-c8d4-672e4e328267"
      },
      "execution_count": null,
      "outputs": [
        {
          "output_type": "stream",
          "name": "stdout",
          "text": [
            "10\n"
          ]
        }
      ]
    },
    {
      "cell_type": "code",
      "source": [
        "b = 5\n",
        "b -= 2 # b = b - 2\n",
        "print(b)"
      ],
      "metadata": {
        "colab": {
          "base_uri": "https://localhost:8080/"
        },
        "id": "EaNaT2vb8UmU",
        "outputId": "e71012fc-d48e-4a18-88b4-67d86112eaaf"
      },
      "execution_count": null,
      "outputs": [
        {
          "output_type": "stream",
          "name": "stdout",
          "text": [
            "3\n"
          ]
        }
      ]
    },
    {
      "cell_type": "markdown",
      "source": [
        "3. Comparison Operators"
      ],
      "metadata": {
        "id": "Sq22u8fj8h0W"
      }
    },
    {
      "cell_type": "code",
      "source": [
        "a = 5\n",
        "b = 10\n",
        "\n",
        "print(a == b) # equal to\n",
        "print(a != b) # not equal to\n",
        "print (a > b) # greater than\n",
        "print (a < b) # less than\n",
        "print (a <= b)\n",
        "print (a >= b)"
      ],
      "metadata": {
        "colab": {
          "base_uri": "https://localhost:8080/"
        },
        "id": "M3SLgv1X8na2",
        "outputId": "6b28de53-eb28-4785-abe2-be0c77d65a37"
      },
      "execution_count": null,
      "outputs": [
        {
          "output_type": "stream",
          "name": "stdout",
          "text": [
            "False\n",
            "True\n",
            "False\n",
            "True\n",
            "True\n",
            "False\n"
          ]
        }
      ]
    },
    {
      "cell_type": "markdown",
      "source": [
        "4. Logical Operators"
      ],
      "metadata": {
        "id": "qB40efDS9h9N"
      }
    },
    {
      "cell_type": "markdown",
      "source": [
        "and\n",
        "or\n",
        "not"
      ],
      "metadata": {
        "id": "FZF6g4B69rAT"
      }
    },
    {
      "cell_type": "code",
      "source": [
        "a = 10\n",
        "\n",
        "print(a > 20 and a > 5)\n",
        "print(a > 20 or a > 5)\n",
        "print(not(a > 8 and a > 5))\n"
      ],
      "metadata": {
        "colab": {
          "base_uri": "https://localhost:8080/"
        },
        "id": "aDtM-b8h9pr1",
        "outputId": "cbe2a835-a956-4bc9-cb91-b411d334a547"
      },
      "execution_count": null,
      "outputs": [
        {
          "output_type": "stream",
          "name": "stdout",
          "text": [
            "False\n",
            "True\n",
            "False\n"
          ]
        }
      ]
    },
    {
      "cell_type": "markdown",
      "source": [
        "5. Identity Operators"
      ],
      "metadata": {
        "id": "qF9ojEvY-IRR"
      }
    },
    {
      "cell_type": "code",
      "source": [
        "x = 5\n",
        "y = 5\n",
        "\n",
        "print(x is y)"
      ],
      "metadata": {
        "colab": {
          "base_uri": "https://localhost:8080/"
        },
        "id": "N_ZiDm2l-Pc3",
        "outputId": "6c89c760-e796-42b4-d90f-49b6c9b7fd3e"
      },
      "execution_count": null,
      "outputs": [
        {
          "output_type": "stream",
          "name": "stdout",
          "text": [
            "True\n"
          ]
        }
      ]
    },
    {
      "cell_type": "code",
      "source": [
        "x = 5\n",
        "y = 10\n",
        "\n",
        "print(x is y)"
      ],
      "metadata": {
        "colab": {
          "base_uri": "https://localhost:8080/"
        },
        "id": "Ph0AOl9r-ZCj",
        "outputId": "0cbec557-6d4a-4cf4-d828-847076848de2"
      },
      "execution_count": null,
      "outputs": [
        {
          "output_type": "stream",
          "name": "stdout",
          "text": [
            "False\n"
          ]
        }
      ]
    },
    {
      "cell_type": "code",
      "source": [
        "x = 5\n",
        "y = 5\n",
        "\n",
        "print(x is not y)"
      ],
      "metadata": {
        "colab": {
          "base_uri": "https://localhost:8080/"
        },
        "id": "64PCSfpq-bci",
        "outputId": "2248e4b5-55bf-432d-ae80-77544688a8ba"
      },
      "execution_count": null,
      "outputs": [
        {
          "output_type": "stream",
          "name": "stdout",
          "text": [
            "False\n"
          ]
        }
      ]
    },
    {
      "cell_type": "code",
      "source": [
        "x = 5\n",
        "y = 10\n",
        "\n",
        "print(x is not y)"
      ],
      "metadata": {
        "colab": {
          "base_uri": "https://localhost:8080/"
        },
        "id": "c6ZSi1cy-iDD",
        "outputId": "3c4fd06f-2ec4-4a06-e400-61754cea8994"
      },
      "execution_count": null,
      "outputs": [
        {
          "output_type": "stream",
          "name": "stdout",
          "text": [
            "True\n"
          ]
        }
      ]
    },
    {
      "cell_type": "markdown",
      "source": [
        "6. Membership Operators"
      ],
      "metadata": {
        "id": "e-E3hg9o-nQz"
      }
    },
    {
      "cell_type": "markdown",
      "source": [
        "in\n",
        "not in"
      ],
      "metadata": {
        "id": "-WwjMuB_-q3G"
      }
    },
    {
      "cell_type": "code",
      "source": [
        "a = 5\n",
        "b = 10\n",
        "\n",
        "c = [1,2,3,4,5]\n",
        "print( a in  c )\n",
        "print( b in c )"
      ],
      "metadata": {
        "colab": {
          "base_uri": "https://localhost:8080/"
        },
        "id": "2hk-U_Tn-tnm",
        "outputId": "93eb4ba5-eb03-4b94-b73c-df77eb797477"
      },
      "execution_count": null,
      "outputs": [
        {
          "output_type": "stream",
          "name": "stdout",
          "text": [
            "True\n",
            "False\n"
          ]
        }
      ]
    },
    {
      "cell_type": "code",
      "source": [
        "a = 5\n",
        "b = 10\n",
        "\n",
        "c = [1,2,3,4,5]\n",
        "print( a not in  c )\n",
        "print( b not in c )"
      ],
      "metadata": {
        "colab": {
          "base_uri": "https://localhost:8080/"
        },
        "id": "7xPHy0CW-5Qk",
        "outputId": "3d8373c4-4ab5-4a20-8339-42ef63c9ec17"
      },
      "execution_count": null,
      "outputs": [
        {
          "output_type": "stream",
          "name": "stdout",
          "text": [
            "False\n",
            "True\n"
          ]
        }
      ]
    }
  ]
}